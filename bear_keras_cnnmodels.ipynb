{
  "nbformat": 4,
  "nbformat_minor": 0,
  "metadata": {
    "kernelspec": {
      "display_name": "Python 3",
      "language": "python",
      "name": "python3"
    },
    "language_info": {
      "codemirror_mode": {
        "name": "ipython",
        "version": 3
      },
      "file_extension": ".py",
      "mimetype": "text/x-python",
      "name": "python",
      "nbconvert_exporter": "python",
      "pygments_lexer": "ipython3",
      "version": "3.6.10"
    },
    "colab": {
      "name": "bear_keras_cnnmodels.ipynb",
      "provenance": [],
      "collapsed_sections": [],
      "include_colab_link": true
    },
    "accelerator": "GPU"
  },
  "cells": [
    {
      "cell_type": "markdown",
      "metadata": {
        "id": "view-in-github",
        "colab_type": "text"
      },
      "source": [
        "<a href=\"https://colab.research.google.com/github/viniciusrpb/sibgrapi2015_algasegmentation_levelset/blob/master/bear_keras_cnnmodels.ipynb\" target=\"_parent\"><img src=\"https://colab.research.google.com/assets/colab-badge.svg\" alt=\"Open In Colab\"/></a>"
      ]
    },
    {
      "cell_type": "code",
      "metadata": {
        "id": "Lf68PvvD_GXN",
        "colab": {
          "base_uri": "https://localhost:8080/"
        },
        "outputId": "cfc15583-dd11-423e-fa41-0b31d2fd38e0"
      },
      "source": [
        "from google.colab import drive\n",
        "drive.mount('/content/drive')"
      ],
      "execution_count": 3,
      "outputs": [
        {
          "output_type": "stream",
          "name": "stdout",
          "text": [
            "Drive already mounted at /content/drive; to attempt to forcibly remount, call drive.mount(\"/content/drive\", force_remount=True).\n"
          ]
        }
      ]
    },
    {
      "cell_type": "markdown",
      "source": [
        "# New Section"
      ],
      "metadata": {
        "id": "uSEdHGn26Hzg"
      }
    },
    {
      "cell_type": "code",
      "metadata": {
        "colab": {
          "base_uri": "https://localhost:8080/"
        },
        "id": "6o0SMmf8z9qD",
        "outputId": "b487c6a6-d7ec-4767-8d92-89c472b15dd0"
      },
      "source": [
        "!pip install tensorflow_addons"
      ],
      "execution_count": 4,
      "outputs": [
        {
          "output_type": "stream",
          "name": "stdout",
          "text": [
            "Collecting tensorflow_addons\n",
            "  Downloading tensorflow_addons-0.16.1-cp37-cp37m-manylinux_2_12_x86_64.manylinux2010_x86_64.whl (1.1 MB)\n",
            "\u001b[?25l\r\u001b[K     |▎                               | 10 kB 25.7 MB/s eta 0:00:01\r\u001b[K     |▋                               | 20 kB 31.9 MB/s eta 0:00:01\r\u001b[K     |▉                               | 30 kB 20.7 MB/s eta 0:00:01\r\u001b[K     |█▏                              | 40 kB 17.1 MB/s eta 0:00:01\r\u001b[K     |█▌                              | 51 kB 13.2 MB/s eta 0:00:01\r\u001b[K     |█▊                              | 61 kB 15.3 MB/s eta 0:00:01\r\u001b[K     |██                              | 71 kB 13.8 MB/s eta 0:00:01\r\u001b[K     |██▍                             | 81 kB 12.4 MB/s eta 0:00:01\r\u001b[K     |██▋                             | 92 kB 13.6 MB/s eta 0:00:01\r\u001b[K     |███                             | 102 kB 14.9 MB/s eta 0:00:01\r\u001b[K     |███▏                            | 112 kB 14.9 MB/s eta 0:00:01\r\u001b[K     |███▌                            | 122 kB 14.9 MB/s eta 0:00:01\r\u001b[K     |███▉                            | 133 kB 14.9 MB/s eta 0:00:01\r\u001b[K     |████                            | 143 kB 14.9 MB/s eta 0:00:01\r\u001b[K     |████▍                           | 153 kB 14.9 MB/s eta 0:00:01\r\u001b[K     |████▊                           | 163 kB 14.9 MB/s eta 0:00:01\r\u001b[K     |█████                           | 174 kB 14.9 MB/s eta 0:00:01\r\u001b[K     |█████▎                          | 184 kB 14.9 MB/s eta 0:00:01\r\u001b[K     |█████▌                          | 194 kB 14.9 MB/s eta 0:00:01\r\u001b[K     |█████▉                          | 204 kB 14.9 MB/s eta 0:00:01\r\u001b[K     |██████▏                         | 215 kB 14.9 MB/s eta 0:00:01\r\u001b[K     |██████▍                         | 225 kB 14.9 MB/s eta 0:00:01\r\u001b[K     |██████▊                         | 235 kB 14.9 MB/s eta 0:00:01\r\u001b[K     |███████                         | 245 kB 14.9 MB/s eta 0:00:01\r\u001b[K     |███████▎                        | 256 kB 14.9 MB/s eta 0:00:01\r\u001b[K     |███████▋                        | 266 kB 14.9 MB/s eta 0:00:01\r\u001b[K     |███████▉                        | 276 kB 14.9 MB/s eta 0:00:01\r\u001b[K     |████████▏                       | 286 kB 14.9 MB/s eta 0:00:01\r\u001b[K     |████████▌                       | 296 kB 14.9 MB/s eta 0:00:01\r\u001b[K     |████████▊                       | 307 kB 14.9 MB/s eta 0:00:01\r\u001b[K     |█████████                       | 317 kB 14.9 MB/s eta 0:00:01\r\u001b[K     |█████████▍                      | 327 kB 14.9 MB/s eta 0:00:01\r\u001b[K     |█████████▋                      | 337 kB 14.9 MB/s eta 0:00:01\r\u001b[K     |██████████                      | 348 kB 14.9 MB/s eta 0:00:01\r\u001b[K     |██████████▏                     | 358 kB 14.9 MB/s eta 0:00:01\r\u001b[K     |██████████▌                     | 368 kB 14.9 MB/s eta 0:00:01\r\u001b[K     |██████████▉                     | 378 kB 14.9 MB/s eta 0:00:01\r\u001b[K     |███████████                     | 389 kB 14.9 MB/s eta 0:00:01\r\u001b[K     |███████████▍                    | 399 kB 14.9 MB/s eta 0:00:01\r\u001b[K     |███████████▊                    | 409 kB 14.9 MB/s eta 0:00:01\r\u001b[K     |████████████                    | 419 kB 14.9 MB/s eta 0:00:01\r\u001b[K     |████████████▎                   | 430 kB 14.9 MB/s eta 0:00:01\r\u001b[K     |████████████▌                   | 440 kB 14.9 MB/s eta 0:00:01\r\u001b[K     |████████████▉                   | 450 kB 14.9 MB/s eta 0:00:01\r\u001b[K     |█████████████▏                  | 460 kB 14.9 MB/s eta 0:00:01\r\u001b[K     |█████████████▍                  | 471 kB 14.9 MB/s eta 0:00:01\r\u001b[K     |█████████████▊                  | 481 kB 14.9 MB/s eta 0:00:01\r\u001b[K     |██████████████                  | 491 kB 14.9 MB/s eta 0:00:01\r\u001b[K     |██████████████▎                 | 501 kB 14.9 MB/s eta 0:00:01\r\u001b[K     |██████████████▋                 | 512 kB 14.9 MB/s eta 0:00:01\r\u001b[K     |██████████████▉                 | 522 kB 14.9 MB/s eta 0:00:01\r\u001b[K     |███████████████▏                | 532 kB 14.9 MB/s eta 0:00:01\r\u001b[K     |███████████████▌                | 542 kB 14.9 MB/s eta 0:00:01\r\u001b[K     |███████████████▊                | 552 kB 14.9 MB/s eta 0:00:01\r\u001b[K     |████████████████                | 563 kB 14.9 MB/s eta 0:00:01\r\u001b[K     |████████████████▍               | 573 kB 14.9 MB/s eta 0:00:01\r\u001b[K     |████████████████▋               | 583 kB 14.9 MB/s eta 0:00:01\r\u001b[K     |█████████████████               | 593 kB 14.9 MB/s eta 0:00:01\r\u001b[K     |█████████████████▏              | 604 kB 14.9 MB/s eta 0:00:01\r\u001b[K     |█████████████████▌              | 614 kB 14.9 MB/s eta 0:00:01\r\u001b[K     |█████████████████▉              | 624 kB 14.9 MB/s eta 0:00:01\r\u001b[K     |██████████████████              | 634 kB 14.9 MB/s eta 0:00:01\r\u001b[K     |██████████████████▍             | 645 kB 14.9 MB/s eta 0:00:01\r\u001b[K     |██████████████████▊             | 655 kB 14.9 MB/s eta 0:00:01\r\u001b[K     |███████████████████             | 665 kB 14.9 MB/s eta 0:00:01\r\u001b[K     |███████████████████▎            | 675 kB 14.9 MB/s eta 0:00:01\r\u001b[K     |███████████████████▌            | 686 kB 14.9 MB/s eta 0:00:01\r\u001b[K     |███████████████████▉            | 696 kB 14.9 MB/s eta 0:00:01\r\u001b[K     |████████████████████▏           | 706 kB 14.9 MB/s eta 0:00:01\r\u001b[K     |████████████████████▍           | 716 kB 14.9 MB/s eta 0:00:01\r\u001b[K     |████████████████████▊           | 727 kB 14.9 MB/s eta 0:00:01\r\u001b[K     |█████████████████████           | 737 kB 14.9 MB/s eta 0:00:01\r\u001b[K     |█████████████████████▎          | 747 kB 14.9 MB/s eta 0:00:01\r\u001b[K     |█████████████████████▋          | 757 kB 14.9 MB/s eta 0:00:01\r\u001b[K     |█████████████████████▉          | 768 kB 14.9 MB/s eta 0:00:01\r\u001b[K     |██████████████████████▏         | 778 kB 14.9 MB/s eta 0:00:01\r\u001b[K     |██████████████████████▌         | 788 kB 14.9 MB/s eta 0:00:01\r\u001b[K     |██████████████████████▊         | 798 kB 14.9 MB/s eta 0:00:01\r\u001b[K     |███████████████████████         | 808 kB 14.9 MB/s eta 0:00:01\r\u001b[K     |███████████████████████▍        | 819 kB 14.9 MB/s eta 0:00:01\r\u001b[K     |███████████████████████▋        | 829 kB 14.9 MB/s eta 0:00:01\r\u001b[K     |████████████████████████        | 839 kB 14.9 MB/s eta 0:00:01\r\u001b[K     |████████████████████████▏       | 849 kB 14.9 MB/s eta 0:00:01\r\u001b[K     |████████████████████████▌       | 860 kB 14.9 MB/s eta 0:00:01\r\u001b[K     |████████████████████████▉       | 870 kB 14.9 MB/s eta 0:00:01\r\u001b[K     |█████████████████████████       | 880 kB 14.9 MB/s eta 0:00:01\r\u001b[K     |█████████████████████████▍      | 890 kB 14.9 MB/s eta 0:00:01\r\u001b[K     |█████████████████████████▊      | 901 kB 14.9 MB/s eta 0:00:01\r\u001b[K     |██████████████████████████      | 911 kB 14.9 MB/s eta 0:00:01\r\u001b[K     |██████████████████████████▎     | 921 kB 14.9 MB/s eta 0:00:01\r\u001b[K     |██████████████████████████▌     | 931 kB 14.9 MB/s eta 0:00:01\r\u001b[K     |██████████████████████████▉     | 942 kB 14.9 MB/s eta 0:00:01\r\u001b[K     |███████████████████████████▏    | 952 kB 14.9 MB/s eta 0:00:01\r\u001b[K     |███████████████████████████▍    | 962 kB 14.9 MB/s eta 0:00:01\r\u001b[K     |███████████████████████████▊    | 972 kB 14.9 MB/s eta 0:00:01\r\u001b[K     |████████████████████████████    | 983 kB 14.9 MB/s eta 0:00:01\r\u001b[K     |████████████████████████████▎   | 993 kB 14.9 MB/s eta 0:00:01\r\u001b[K     |████████████████████████████▋   | 1.0 MB 14.9 MB/s eta 0:00:01\r\u001b[K     |████████████████████████████▉   | 1.0 MB 14.9 MB/s eta 0:00:01\r\u001b[K     |█████████████████████████████▏  | 1.0 MB 14.9 MB/s eta 0:00:01\r\u001b[K     |█████████████████████████████▌  | 1.0 MB 14.9 MB/s eta 0:00:01\r\u001b[K     |█████████████████████████████▊  | 1.0 MB 14.9 MB/s eta 0:00:01\r\u001b[K     |██████████████████████████████  | 1.1 MB 14.9 MB/s eta 0:00:01\r\u001b[K     |██████████████████████████████▍ | 1.1 MB 14.9 MB/s eta 0:00:01\r\u001b[K     |██████████████████████████████▋ | 1.1 MB 14.9 MB/s eta 0:00:01\r\u001b[K     |███████████████████████████████ | 1.1 MB 14.9 MB/s eta 0:00:01\r\u001b[K     |███████████████████████████████▏| 1.1 MB 14.9 MB/s eta 0:00:01\r\u001b[K     |███████████████████████████████▌| 1.1 MB 14.9 MB/s eta 0:00:01\r\u001b[K     |███████████████████████████████▉| 1.1 MB 14.9 MB/s eta 0:00:01\r\u001b[K     |████████████████████████████████| 1.1 MB 14.9 MB/s \n",
            "\u001b[?25hRequirement already satisfied: typeguard>=2.7 in /usr/local/lib/python3.7/dist-packages (from tensorflow_addons) (2.7.1)\n",
            "Installing collected packages: tensorflow-addons\n",
            "Successfully installed tensorflow-addons-0.16.1\n"
          ]
        }
      ]
    },
    {
      "cell_type": "code",
      "metadata": {
        "id": "voJBV5X_g0B6"
      },
      "source": [
        "!cp -r \"/content/drive/My Drive/bears_2/bears_validation\" \"bears_validation_2\"\n",
        "!cp -r \"/content/drive/My Drive/bears_2/bears_train\" \"bears_train_2\"\n",
        "!cp -r \"/content/drive/My Drive/bears_3/bears_validation\" \"bears_validation_3\"\n",
        "!cp -r \"/content/drive/My Drive/bears_3/bears_train\" \"bears_train_3\""
      ],
      "execution_count": 5,
      "outputs": []
    },
    {
      "cell_type": "code",
      "metadata": {
        "id": "W384maMHy7Yc"
      },
      "source": [
        "import tensorflow as tf\n",
        "from tensorflow.keras.optimizers import RMSprop\n",
        "from tensorflow.keras.preprocessing.image import ImageDataGenerator\n",
        "from keras.layers import Dense,GlobalAveragePooling2D ,MaxPooling2D,Activation,Flatten,Conv2D,BatchNormalization,Dropout\n",
        "from tensorflow.keras import layers\n",
        "from tensorflow.keras import Model\n",
        "from keras.models import Sequential\n",
        "from tensorflow.keras.optimizers import SGD\n",
        "import matplotlib.pyplot as plt\n",
        "from sklearn.metrics import classification_report\n",
        "from sklearn.metrics import confusion_matrix\n",
        "import numpy as np\n",
        "import tensorflow_addons as tfa"
      ],
      "execution_count": 6,
      "outputs": []
    },
    {
      "cell_type": "code",
      "metadata": {
        "id": "ThJjNtJBi900"
      },
      "source": [
        "path_train = 'bears_train_2'\n",
        "path_validation = 'bears_validation_2'\n",
        "path_test = 'bears_validation_2'"
      ],
      "execution_count": 7,
      "outputs": []
    },
    {
      "cell_type": "markdown",
      "metadata": {
        "id": "3-0nc-LxNSF2"
      },
      "source": [
        "# Pretrained GoogLeNet model using ImageNet\n"
      ]
    },
    {
      "cell_type": "code",
      "metadata": {
        "id": "yWx2apyg_GXQ"
      },
      "source": [
        "#from tf.keras.applications.MobileNetV2 import MobileNetV2\n",
        "\n",
        "pre_trained_model = tf.keras.applications.MobileNetV2(input_shape=(224,224,3),include_top=False,weights='imagenet')\n",
        "\n",
        "for layer in pre_trained_model.layers:\n",
        "  layer.trainable = False"
      ],
      "execution_count": 46,
      "outputs": []
    },
    {
      "cell_type": "markdown",
      "metadata": {
        "id": "Q8ZNyeF4v9FL"
      },
      "source": [
        "Hyperparameters"
      ]
    },
    {
      "cell_type": "code",
      "metadata": {
        "id": "js1kaBFGv9MD"
      },
      "source": [
        "batch_size = 16\n",
        "epochs=10"
      ],
      "execution_count": 47,
      "outputs": []
    },
    {
      "cell_type": "markdown",
      "metadata": {
        "id": "sHw1dYWP_GXV"
      },
      "source": [
        "### Data augmentation"
      ]
    },
    {
      "cell_type": "code",
      "metadata": {
        "id": "qh3pPvvDzvEq"
      },
      "source": [
        "train_datagen = ImageDataGenerator(rescale=1./255)\n",
        "\n",
        "validation_datagen = ImageDataGenerator(rescale=1./255)\n",
        "\n",
        "test_datagen = ImageDataGenerator(rescale=1./255)"
      ],
      "execution_count": 48,
      "outputs": []
    },
    {
      "cell_type": "markdown",
      "metadata": {
        "id": "mfA7Ta99wW_a"
      },
      "source": [
        "Read the images"
      ]
    },
    {
      "cell_type": "code",
      "metadata": {
        "colab": {
          "base_uri": "https://localhost:8080/"
        },
        "id": "c5Fpl71WwXGa",
        "outputId": "9f856eb1-2dd9-495d-df94-65c4c6392399"
      },
      "source": [
        "# Flow training images in batches of 20 using train_datagen generator\n",
        "train_generator = train_datagen.flow_from_directory(path_train,\n",
        "                                                    batch_size = batch_size,\n",
        "                                                    class_mode = 'categorical', \n",
        "                                                    target_size = (224, 224))     \n",
        "\n",
        "# Flow validation images in batches of 20 using test_datagen generator\n",
        "validation_generator =  validation_datagen.flow_from_directory( path_validation,\n",
        "                                                          batch_size  = batch_size,\n",
        "                                                          class_mode  = 'categorical', \n",
        "                                                          target_size = (224, 224))\n",
        "\n",
        "test_generator =  test_datagen.flow_from_directory( path_test,\n",
        "                                                          batch_size  = batch_size,\n",
        "                                                          class_mode  = 'categorical', \n",
        "                                                          target_size = (224, 224))"
      ],
      "execution_count": 49,
      "outputs": [
        {
          "output_type": "stream",
          "name": "stdout",
          "text": [
            "Found 232 images belonging to 2 classes.\n",
            "Found 52 images belonging to 2 classes.\n",
            "Found 52 images belonging to 2 classes.\n"
          ]
        }
      ]
    },
    {
      "cell_type": "markdown",
      "metadata": {
        "id": "JV5TTVwGtY1p"
      },
      "source": [
        "Hyper-parameters"
      ]
    },
    {
      "cell_type": "code",
      "metadata": {
        "id": "fcNysNaZtY74"
      },
      "source": [
        "number_of_neurons = 100\n",
        "number_of_classes = validation_generator.class_indices"
      ],
      "execution_count": 50,
      "outputs": []
    },
    {
      "cell_type": "markdown",
      "metadata": {
        "id": "Qh_m54z-5VW8"
      },
      "source": [
        "Lets see some samples"
      ]
    },
    {
      "cell_type": "code",
      "metadata": {
        "id": "mDvSxorK_GXV"
      },
      "source": [
        "model = Sequential()\n",
        "\n",
        "model.add(pre_trained_model)\n",
        "model.add(GlobalAveragePooling2D())\n",
        "model.add(Flatten())\n",
        "\n",
        "model.add(Dense(number_of_neurons))\n",
        "model.add(Activation(\"relu\"))\n",
        "model.add(Dropout(0.2))\n",
        "model.add(Dense(2))\n",
        "\n",
        "model.add(Activation(\"softmax\"))"
      ],
      "execution_count": 51,
      "outputs": []
    },
    {
      "cell_type": "code",
      "metadata": {
        "id": "sqeVzAQhsj6i"
      },
      "source": [
        "sgd = SGD(learning_rate=0.0001,decay=1e-6, momentum=0.9, nesterov=True)\n",
        "\n",
        "#f1_score = tfa.metrics.F1Score(num_classes=2, average='micro',threshold=0.5)\n",
        "\n",
        "model.compile(optimizer = sgd, \n",
        "              loss = 'categorical_crossentropy', \n",
        "              metrics = 'accuracy')\n",
        "            #metrics = ['accuracy',f1_score])\n",
        "\n",
        "#model.compile(optimizer = tf.keras.optimizers.Adam(learning_rate=0.000001,decay=0.01), \n",
        "#              loss = 'categorical_crossentropy', \n",
        "#              metrics = 'accuracy')\n",
        "            #metrics = ['accuracy',f1_score])"
      ],
      "execution_count": 52,
      "outputs": []
    },
    {
      "cell_type": "code",
      "metadata": {
        "id": "c9zT6oaF_GXX",
        "colab": {
          "base_uri": "https://localhost:8080/"
        },
        "outputId": "ad73b58a-83a8-4b8a-e2dc-6afb3a5ecc6a"
      },
      "source": [
        "history_fine = model.fit(train_generator,\n",
        "                         epochs=epochs,\n",
        "                         validation_data=validation_generator\n",
        "                         #initial_epoch=history.epoch[-1],\n",
        "                         )"
      ],
      "execution_count": 53,
      "outputs": [
        {
          "output_type": "stream",
          "name": "stdout",
          "text": [
            "Epoch 1/10\n",
            "15/15 [==============================] - 12s 661ms/step - loss: 0.8727 - accuracy: 0.5216 - val_loss: 0.6598 - val_accuracy: 0.5385\n",
            "Epoch 2/10\n",
            "15/15 [==============================] - 8s 546ms/step - loss: 0.6328 - accuracy: 0.6810 - val_loss: 0.4931 - val_accuracy: 0.8846\n",
            "Epoch 3/10\n",
            "15/15 [==============================] - 8s 554ms/step - loss: 0.5348 - accuracy: 0.7112 - val_loss: 0.4153 - val_accuracy: 0.9423\n",
            "Epoch 4/10\n",
            "15/15 [==============================] - 8s 531ms/step - loss: 0.4566 - accuracy: 0.8276 - val_loss: 0.3625 - val_accuracy: 0.9423\n",
            "Epoch 5/10\n",
            "15/15 [==============================] - 8s 555ms/step - loss: 0.4062 - accuracy: 0.8664 - val_loss: 0.3199 - val_accuracy: 0.9615\n",
            "Epoch 6/10\n",
            "15/15 [==============================] - 8s 551ms/step - loss: 0.3525 - accuracy: 0.9095 - val_loss: 0.2904 - val_accuracy: 0.9615\n",
            "Epoch 7/10\n",
            "15/15 [==============================] - 8s 542ms/step - loss: 0.3577 - accuracy: 0.8750 - val_loss: 0.2667 - val_accuracy: 0.9808\n",
            "Epoch 8/10\n",
            "15/15 [==============================] - 8s 557ms/step - loss: 0.3131 - accuracy: 0.9095 - val_loss: 0.2471 - val_accuracy: 0.9808\n",
            "Epoch 9/10\n",
            "15/15 [==============================] - 8s 542ms/step - loss: 0.2885 - accuracy: 0.9224 - val_loss: 0.2275 - val_accuracy: 0.9808\n",
            "Epoch 10/10\n",
            "15/15 [==============================] - 8s 557ms/step - loss: 0.2629 - accuracy: 0.9267 - val_loss: 0.2127 - val_accuracy: 0.9808\n"
          ]
        }
      ]
    },
    {
      "cell_type": "code",
      "metadata": {
        "id": "1WFZwVEg_GXb"
      },
      "source": [
        "#f1 = history_fine.history['f1_score']\n",
        "#val_f1 = history_fine.history['val_f1_score']\n",
        "\n",
        "#plt.figure(figsize=(8, 8))\n",
        "#plt.subplot(2, 1, 1)\n",
        "#plt.plot(f1, label='Training F1-Score')\n",
        "#plt.plot(val_f1, label='Validation F1-Score')\n",
        "#plt.legend(loc='lower right')\n",
        "#plt.ylabel('F1-Score')\n",
        "#plt.ylim([min(plt.ylim()),1])\n",
        "#plt.title('Training and Validation F1-Score')\n"
      ],
      "execution_count": null,
      "outputs": []
    },
    {
      "cell_type": "code",
      "source": [
        "f1 = history_fine.history['accuracy']\n",
        "val_f1 = history_fine.history['val_accuracy']\n",
        "\n",
        "plt.figure(figsize=(8, 8))\n",
        "plt.subplot(2, 1, 1)\n",
        "plt.plot(f1, label='Training F1-Score')\n",
        "plt.plot(val_f1, label='Validation F1-Score')\n",
        "plt.legend(loc='lower right')\n",
        "plt.ylabel('F1-Score')\n",
        "plt.ylim([min(plt.ylim()),1])\n",
        "plt.title('Training and Validation F1-Score')\n"
      ],
      "metadata": {
        "colab": {
          "base_uri": "https://localhost:8080/",
          "height": 279
        },
        "id": "fOSIrhK5g1ZF",
        "outputId": "0de1180e-27c6-4fdc-f69e-5580a713fd06"
      },
      "execution_count": 54,
      "outputs": [
        {
          "output_type": "execute_result",
          "data": {
            "text/plain": [
              "Text(0.5, 1.0, 'Training and Validation F1-Score')"
            ]
          },
          "metadata": {},
          "execution_count": 54
        },
        {
          "output_type": "display_data",
          "data": {
            "image/png": "[encoded data removed]",
            "text/plain": [
              "<Figure size 576x576 with 1 Axes>"
            ]
          },
          "metadata": {
            "needs_background": "light"
          }
        }
      ]
    },
    {
      "cell_type": "code",
      "metadata": {
        "id": "Q8ENVvZSrKrS",
        "colab": {
          "base_uri": "https://localhost:8080/",
          "height": 295
        },
        "outputId": "7f923b27-0ba2-482e-be1d-56f60e31d0ba"
      },
      "source": [
        "loss = history_fine.history['loss']\n",
        "val_loss = history_fine.history['val_loss']\n",
        "\n",
        "plt.plot(history_fine.history['loss'])\n",
        "plt.plot(history_fine.history['val_loss'])\n",
        "plt.title('model loss')\n",
        "plt.ylabel('loss')\n",
        "plt.xlabel('epoch')\n",
        "plt.legend(['training set', 'validation set'], loc='upper left')\n",
        "plt.show()"
      ],
      "execution_count": 55,
      "outputs": [
        {
          "output_type": "display_data",
          "data": {
            "image/png": "[encoded data removed]",
            "text/plain": [
              "<Figure size 432x288 with 1 Axes>"
            ]
          },
          "metadata": {
            "needs_background": "light"
          }
        }
      ]
    },
    {
      "cell_type": "markdown",
      "metadata": {
        "id": "zFraRq9i9FNA"
      },
      "source": [
        ""
      ]
    },
    {
      "cell_type": "code",
      "metadata": {
        "id": "RXFG_Bn19FTX",
        "colab": {
          "base_uri": "https://localhost:8080/"
        },
        "outputId": "38c0ce01-0b0f-467e-c258-cfac0a3136ca"
      },
      "source": [
        "y_prob = model.predict(test_generator,batch_size=batch_size)\n",
        "y_pred = np.argmax(y_prob,axis=1)\n",
        "\n",
        "print(classification_report(y_pred,test_generator.classes))"
      ],
      "execution_count": 56,
      "outputs": [
        {
          "output_type": "stream",
          "name": "stdout",
          "text": [
            "              precision    recall  f1-score   support\n",
            "\n",
            "           0       0.36      0.35      0.35        26\n",
            "           1       0.37      0.38      0.38        26\n",
            "\n",
            "    accuracy                           0.37        52\n",
            "   macro avg       0.37      0.37      0.37        52\n",
            "weighted avg       0.37      0.37      0.37        52\n",
            "\n"
          ]
        }
      ]
    },
    {
      "cell_type": "code",
      "source": [
        "test_generator.classes"
      ],
      "metadata": {
        "colab": {
          "base_uri": "https://localhost:8080/"
        },
        "id": "cbxMbryxo31y",
        "outputId": "8e662475-2543-4e6c-9926-945a05b8ec79"
      },
      "execution_count": 57,
      "outputs": [
        {
          "output_type": "execute_result",
          "data": {
            "text/plain": [
              "array([0, 0, 0, 0, 0, 0, 0, 0, 0, 0, 0, 0, 0, 0, 0, 0, 0, 0, 0, 0, 0, 0,\n",
              "       0, 0, 0, 1, 1, 1, 1, 1, 1, 1, 1, 1, 1, 1, 1, 1, 1, 1, 1, 1, 1, 1,\n",
              "       1, 1, 1, 1, 1, 1, 1, 1], dtype=int32)"
            ]
          },
          "metadata": {},
          "execution_count": 57
        }
      ]
    },
    {
      "cell_type": "code",
      "source": [
        "y_pred"
      ],
      "metadata": {
        "colab": {
          "base_uri": "https://localhost:8080/"
        },
        "id": "_C6CCDiayO0g",
        "outputId": "e7b67128-78b1-4a5f-8cde-baaf35ac37d4"
      },
      "execution_count": 58,
      "outputs": [
        {
          "output_type": "execute_result",
          "data": {
            "text/plain": [
              "array([1, 1, 0, 1, 1, 0, 1, 0, 0, 0, 1, 1, 0, 1, 1, 0, 1, 0, 1, 1, 1, 1,\n",
              "       1, 0, 1, 0, 0, 0, 0, 0, 1, 0, 1, 0, 1, 0, 1, 1, 1, 0, 0, 0, 1, 0,\n",
              "       0, 0, 1, 0, 0, 1, 1, 0])"
            ]
          },
          "metadata": {},
          "execution_count": 58
        }
      ]
    },
    {
      "cell_type": "code",
      "source": [
        "import plotly.figure_factory as ff\n",
        "\n",
        "y_true = test_generator.classes\n",
        "\n",
        "z = confusion_matrix(y_true, y_pred)\n",
        "\n",
        "x = list(test_generator.class_indices.keys())\n",
        "\n",
        "y = list(test_generator.class_indices.keys())\n"
      ],
      "metadata": {
        "id": "5NOZQOgN_DHU"
      },
      "execution_count": 59,
      "outputs": []
    },
    {
      "cell_type": "code",
      "metadata": {
        "id": "EHxUyHkC1URt",
        "colab": {
          "base_uri": "https://localhost:8080/",
          "height": 542
        },
        "outputId": "34be9698-2dee-458d-a2cd-e8ee2bc9d5f6"
      },
      "source": [
        "# change each element of z to type string for annotations\n",
        "z_text = [[str(y) for y in x] for x in z]\n",
        "\n",
        "# set up figure \n",
        "fig = ff.create_annotated_heatmap(z, x=x, y=y, annotation_text=z_text, colorscale='Viridis')\n",
        "\n",
        "# add title\n",
        "fig.update_layout(title_text='<i><b>Confusion matrix</b></i>',\n",
        "                  #xaxis = dict(title='x'),\n",
        "                  #yaxis = dict(title='x')\n",
        "                 )\n",
        "\n",
        "# add custom xaxis title\n",
        "fig.add_annotation(dict(font=dict(color=\"black\",size=14),\n",
        "                        x=0.5,\n",
        "                        y=-0.15,\n",
        "                        showarrow=False,\n",
        "                        text=\"Predicted value\",\n",
        "                        xref=\"paper\",\n",
        "                        yref=\"paper\"))\n",
        "\n",
        "# add custom yaxis title\n",
        "fig.add_annotation(dict(font=dict(color=\"black\",size=14),\n",
        "                        x=-0.35,\n",
        "                        y=0.5,\n",
        "                        showarrow=False,\n",
        "                        text=\"Real value\",\n",
        "                        textangle=-90,\n",
        "                        xref=\"paper\",\n",
        "                        yref=\"paper\"))\n",
        "\n",
        "# adjust margins to make room for yaxis title\n",
        "fig.update_layout(margin=dict(t=50, l=200))\n",
        "\n",
        "# add colorbar\n",
        "fig['data'][0]['showscale'] = True\n",
        "fig.show()"
      ],
      "execution_count": 60,
      "outputs": [
        {
          "output_type": "display_data",
          "data": {
            "text/html": [
              "<html>\n",
              "<head><meta charset=\"utf-8\" /></head>\n",
              "<body>\n",
              "    <div>            <script src=\"https://cdnjs.cloudflare.com/ajax/libs/mathjax/2.7.5/MathJax.js?config=TeX-AMS-MML_SVG\"></script><script type=\"text/javascript\">if (window.MathJax) {MathJax.Hub.Config({SVG: {font: \"STIX-Web\"}});}</script>                <script type=\"text/javascript\">window.PlotlyConfig = {MathJaxConfig: 'local'};</script>\n",
              "        <script src=\"https://cdn.plot.ly/plotly-2.8.3.min.js\"></script>                <div id=\"cac7ad00-ed4d-4752-8dce-946bd447f9bd\" class=\"plotly-graph-div\" style=\"height:525px; width:100%;\"></div>            <script type=\"text/javascript\">                                    window.PLOTLYENV=window.PLOTLYENV || {};                                    if (document.getElementById(\"cac7ad00-ed4d-4752-8dce-946bd447f9bd\")) {                    Plotly.newPlot(                        \"cac7ad00-ed4d-4752-8dce-946bd447f9bd\",                        [{\"colorscale\":[[0.0,\"#440154\"],[0.1111111111111111,\"#482878\"],[0.2222222222222222,\"#3e4989\"],[0.3333333333333333,\"#31688e\"],[0.4444444444444444,\"#26828e\"],[0.5555555555555556,\"#1f9e89\"],[0.6666666666666666,\"#35b779\"],[0.7777777777777778,\"#6ece58\"],[0.8888888888888888,\"#b5de2b\"],[1.0,\"#fde725\"]],\"reversescale\":false,\"showscale\":true,\"x\":[\"black\",\"grizzly\"],\"y\":[\"black\",\"grizzly\"],\"z\":[[9,16],[17,10]],\"type\":\"heatmap\"}],                        {\"annotations\":[{\"font\":{\"color\":\"#FFFFFF\"},\"showarrow\":false,\"text\":\"9\",\"x\":\"black\",\"xref\":\"x\",\"y\":\"black\",\"yref\":\"y\"},{\"font\":{\"color\":\"#000000\"},\"showarrow\":false,\"text\":\"16\",\"x\":\"grizzly\",\"xref\":\"x\",\"y\":\"black\",\"yref\":\"y\"},{\"font\":{\"color\":\"#000000\"},\"showarrow\":false,\"text\":\"17\",\"x\":\"black\",\"xref\":\"x\",\"y\":\"grizzly\",\"yref\":\"y\"},{\"font\":{\"color\":\"#FFFFFF\"},\"showarrow\":false,\"text\":\"10\",\"x\":\"grizzly\",\"xref\":\"x\",\"y\":\"grizzly\",\"yref\":\"y\"},{\"font\":{\"color\":\"black\",\"size\":14},\"showarrow\":false,\"text\":\"Predicted value\",\"x\":0.5,\"xref\":\"paper\",\"y\":-0.15,\"yref\":\"paper\"},{\"font\":{\"color\":\"black\",\"size\":14},\"showarrow\":false,\"text\":\"Real value\",\"textangle\":-90,\"x\":-0.35,\"xref\":\"paper\",\"y\":0.5,\"yref\":\"paper\"}],\"xaxis\":{\"dtick\":1,\"gridcolor\":\"rgb(0, 0, 0)\",\"side\":\"top\",\"ticks\":\"\"},\"yaxis\":{\"dtick\":1,\"ticks\":\"\",\"ticksuffix\":\"  \"},\"template\":{\"data\":{\"bar\":[{\"error_x\":{\"color\":\"#2a3f5f\"},\"error_y\":{\"color\":\"#2a3f5f\"},\"marker\":{\"line\":{\"color\":\"#E5ECF6\",\"width\":0.5},\"pattern\":{\"fillmode\":\"overlay\",\"size\":10,\"solidity\":0.2}},\"type\":\"bar\"}],\"barpolar\":[{\"marker\":{\"line\":{\"color\":\"#E5ECF6\",\"width\":0.5},\"pattern\":{\"fillmode\":\"overlay\",\"size\":10,\"solidity\":0.2}},\"type\":\"barpolar\"}],\"carpet\":[{\"aaxis\":{\"endlinecolor\":\"#2a3f5f\",\"gridcolor\":\"white\",\"linecolor\":\"white\",\"minorgridcolor\":\"white\",\"startlinecolor\":\"#2a3f5f\"},\"baxis\":{\"endlinecolor\":\"#2a3f5f\",\"gridcolor\":\"white\",\"linecolor\":\"white\",\"minorgridcolor\":\"white\",\"startlinecolor\":\"#2a3f5f\"},\"type\":\"carpet\"}],\"choropleth\":[{\"colorbar\":{\"outlinewidth\":0,\"ticks\":\"\"},\"type\":\"choropleth\"}],\"contour\":[{\"colorbar\":{\"outlinewidth\":0,\"ticks\":\"\"},\"colorscale\":[[0.0,\"#0d0887\"],[0.1111111111111111,\"#46039f\"],[0.2222222222222222,\"#7201a8\"],[0.3333333333333333,\"#9c179e\"],[0.4444444444444444,\"#bd3786\"],[0.5555555555555556,\"#d8576b\"],[0.6666666666666666,\"#ed7953\"],[0.7777777777777778,\"#fb9f3a\"],[0.8888888888888888,\"#fdca26\"],[1.0,\"#f0f921\"]],\"type\":\"contour\"}],\"contourcarpet\":[{\"colorbar\":{\"outlinewidth\":0,\"ticks\":\"\"},\"type\":\"contourcarpet\"}],\"heatmap\":[{\"colorbar\":{\"outlinewidth\":0,\"ticks\":\"\"},\"colorscale\":[[0.0,\"#0d0887\"],[0.1111111111111111,\"#46039f\"],[0.2222222222222222,\"#7201a8\"],[0.3333333333333333,\"#9c179e\"],[0.4444444444444444,\"#bd3786\"],[0.5555555555555556,\"#d8576b\"],[0.6666666666666666,\"#ed7953\"],[0.7777777777777778,\"#fb9f3a\"],[0.8888888888888888,\"#fdca26\"],[1.0,\"#f0f921\"]],\"type\":\"heatmap\"}],\"heatmapgl\":[{\"colorbar\":{\"outlinewidth\":0,\"ticks\":\"\"},\"colorscale\":[[0.0,\"#0d0887\"],[0.1111111111111111,\"#46039f\"],[0.2222222222222222,\"#7201a8\"],[0.3333333333333333,\"#9c179e\"],[0.4444444444444444,\"#bd3786\"],[0.5555555555555556,\"#d8576b\"],[0.6666666666666666,\"#ed7953\"],[0.7777777777777778,\"#fb9f3a\"],[0.8888888888888888,\"#fdca26\"],[1.0,\"#f0f921\"]],\"type\":\"heatmapgl\"}],\"histogram\":[{\"marker\":{\"pattern\":{\"fillmode\":\"overlay\",\"size\":10,\"solidity\":0.2}},\"type\":\"histogram\"}],\"histogram2d\":[{\"colorbar\":{\"outlinewidth\":0,\"ticks\":\"\"},\"colorscale\":[[0.0,\"#0d0887\"],[0.1111111111111111,\"#46039f\"],[0.2222222222222222,\"#7201a8\"],[0.3333333333333333,\"#9c179e\"],[0.4444444444444444,\"#bd3786\"],[0.5555555555555556,\"#d8576b\"],[0.6666666666666666,\"#ed7953\"],[0.7777777777777778,\"#fb9f3a\"],[0.8888888888888888,\"#fdca26\"],[1.0,\"#f0f921\"]],\"type\":\"histogram2d\"}],\"histogram2dcontour\":[{\"colorbar\":{\"outlinewidth\":0,\"ticks\":\"\"},\"colorscale\":[[0.0,\"#0d0887\"],[0.1111111111111111,\"#46039f\"],[0.2222222222222222,\"#7201a8\"],[0.3333333333333333,\"#9c179e\"],[0.4444444444444444,\"#bd3786\"],[0.5555555555555556,\"#d8576b\"],[0.6666666666666666,\"#ed7953\"],[0.7777777777777778,\"#fb9f3a\"],[0.8888888888888888,\"#fdca26\"],[1.0,\"#f0f921\"]],\"type\":\"histogram2dcontour\"}],\"mesh3d\":[{\"colorbar\":{\"outlinewidth\":0,\"ticks\":\"\"},\"type\":\"mesh3d\"}],\"parcoords\":[{\"line\":{\"colorbar\":{\"outlinewidth\":0,\"ticks\":\"\"}},\"type\":\"parcoords\"}],\"pie\":[{\"automargin\":true,\"type\":\"pie\"}],\"scatter\":[{\"marker\":{\"colorbar\":{\"outlinewidth\":0,\"ticks\":\"\"}},\"type\":\"scatter\"}],\"scatter3d\":[{\"line\":{\"colorbar\":{\"outlinewidth\":0,\"ticks\":\"\"}},\"marker\":{\"colorbar\":{\"outlinewidth\":0,\"ticks\":\"\"}},\"type\":\"scatter3d\"}],\"scattercarpet\":[{\"marker\":{\"colorbar\":{\"outlinewidth\":0,\"ticks\":\"\"}},\"type\":\"scattercarpet\"}],\"scattergeo\":[{\"marker\":{\"colorbar\":{\"outlinewidth\":0,\"ticks\":\"\"}},\"type\":\"scattergeo\"}],\"scattergl\":[{\"marker\":{\"colorbar\":{\"outlinewidth\":0,\"ticks\":\"\"}},\"type\":\"scattergl\"}],\"scattermapbox\":[{\"marker\":{\"colorbar\":{\"outlinewidth\":0,\"ticks\":\"\"}},\"type\":\"scattermapbox\"}],\"scatterpolar\":[{\"marker\":{\"colorbar\":{\"outlinewidth\":0,\"ticks\":\"\"}},\"type\":\"scatterpolar\"}],\"scatterpolargl\":[{\"marker\":{\"colorbar\":{\"outlinewidth\":0,\"ticks\":\"\"}},\"type\":\"scatterpolargl\"}],\"scatterternary\":[{\"marker\":{\"colorbar\":{\"outlinewidth\":0,\"ticks\":\"\"}},\"type\":\"scatterternary\"}],\"surface\":[{\"colorbar\":{\"outlinewidth\":0,\"ticks\":\"\"},\"colorscale\":[[0.0,\"#0d0887\"],[0.1111111111111111,\"#46039f\"],[0.2222222222222222,\"#7201a8\"],[0.3333333333333333,\"#9c179e\"],[0.4444444444444444,\"#bd3786\"],[0.5555555555555556,\"#d8576b\"],[0.6666666666666666,\"#ed7953\"],[0.7777777777777778,\"#fb9f3a\"],[0.8888888888888888,\"#fdca26\"],[1.0,\"#f0f921\"]],\"type\":\"surface\"}],\"table\":[{\"cells\":{\"fill\":{\"color\":\"#EBF0F8\"},\"line\":{\"color\":\"white\"}},\"header\":{\"fill\":{\"color\":\"#C8D4E3\"},\"line\":{\"color\":\"white\"}},\"type\":\"table\"}]},\"layout\":{\"annotationdefaults\":{\"arrowcolor\":\"#2a3f5f\",\"arrowhead\":0,\"arrowwidth\":1},\"autotypenumbers\":\"strict\",\"coloraxis\":{\"colorbar\":{\"outlinewidth\":0,\"ticks\":\"\"}},\"colorscale\":{\"diverging\":[[0,\"#8e0152\"],[0.1,\"#c51b7d\"],[0.2,\"#de77ae\"],[0.3,\"#f1b6da\"],[0.4,\"#fde0ef\"],[0.5,\"#f7f7f7\"],[0.6,\"#e6f5d0\"],[0.7,\"#b8e186\"],[0.8,\"#7fbc41\"],[0.9,\"#4d9221\"],[1,\"#276419\"]],\"sequential\":[[0.0,\"#0d0887\"],[0.1111111111111111,\"#46039f\"],[0.2222222222222222,\"#7201a8\"],[0.3333333333333333,\"#9c179e\"],[0.4444444444444444,\"#bd3786\"],[0.5555555555555556,\"#d8576b\"],[0.6666666666666666,\"#ed7953\"],[0.7777777777777778,\"#fb9f3a\"],[0.8888888888888888,\"#fdca26\"],[1.0,\"#f0f921\"]],\"sequentialminus\":[[0.0,\"#0d0887\"],[0.1111111111111111,\"#46039f\"],[0.2222222222222222,\"#7201a8\"],[0.3333333333333333,\"#9c179e\"],[0.4444444444444444,\"#bd3786\"],[0.5555555555555556,\"#d8576b\"],[0.6666666666666666,\"#ed7953\"],[0.7777777777777778,\"#fb9f3a\"],[0.8888888888888888,\"#fdca26\"],[1.0,\"#f0f921\"]]},\"colorway\":[\"#636efa\",\"#EF553B\",\"#00cc96\",\"#ab63fa\",\"#FFA15A\",\"#19d3f3\",\"#FF6692\",\"#B6E880\",\"#FF97FF\",\"#FECB52\"],\"font\":{\"color\":\"#2a3f5f\"},\"geo\":{\"bgcolor\":\"white\",\"lakecolor\":\"white\",\"landcolor\":\"#E5ECF6\",\"showlakes\":true,\"showland\":true,\"subunitcolor\":\"white\"},\"hoverlabel\":{\"align\":\"left\"},\"hovermode\":\"closest\",\"mapbox\":{\"style\":\"light\"},\"paper_bgcolor\":\"white\",\"plot_bgcolor\":\"#E5ECF6\",\"polar\":{\"angularaxis\":{\"gridcolor\":\"white\",\"linecolor\":\"white\",\"ticks\":\"\"},\"bgcolor\":\"#E5ECF6\",\"radialaxis\":{\"gridcolor\":\"white\",\"linecolor\":\"white\",\"ticks\":\"\"}},\"scene\":{\"xaxis\":{\"backgroundcolor\":\"#E5ECF6\",\"gridcolor\":\"white\",\"gridwidth\":2,\"linecolor\":\"white\",\"showbackground\":true,\"ticks\":\"\",\"zerolinecolor\":\"white\"},\"yaxis\":{\"backgroundcolor\":\"#E5ECF6\",\"gridcolor\":\"white\",\"gridwidth\":2,\"linecolor\":\"white\",\"showbackground\":true,\"ticks\":\"\",\"zerolinecolor\":\"white\"},\"zaxis\":{\"backgroundcolor\":\"#E5ECF6\",\"gridcolor\":\"white\",\"gridwidth\":2,\"linecolor\":\"white\",\"showbackground\":true,\"ticks\":\"\",\"zerolinecolor\":\"white\"}},\"shapedefaults\":{\"line\":{\"color\":\"#2a3f5f\"}},\"ternary\":{\"aaxis\":{\"gridcolor\":\"white\",\"linecolor\":\"white\",\"ticks\":\"\"},\"baxis\":{\"gridcolor\":\"white\",\"linecolor\":\"white\",\"ticks\":\"\"},\"bgcolor\":\"#E5ECF6\",\"caxis\":{\"gridcolor\":\"white\",\"linecolor\":\"white\",\"ticks\":\"\"}},\"title\":{\"x\":0.05},\"xaxis\":{\"automargin\":true,\"gridcolor\":\"white\",\"linecolor\":\"white\",\"ticks\":\"\",\"title\":{\"standoff\":15},\"zerolinecolor\":\"white\",\"zerolinewidth\":2},\"yaxis\":{\"automargin\":true,\"gridcolor\":\"white\",\"linecolor\":\"white\",\"ticks\":\"\",\"title\":{\"standoff\":15},\"zerolinecolor\":\"white\",\"zerolinewidth\":2}}},\"title\":{\"text\":\"<i><b>Confusion matrix</b></i>\"},\"margin\":{\"t\":50,\"l\":200}},                        {\"responsive\": true}                    ).then(function(){\n",
              "                            \n",
              "var gd = document.getElementById('cac7ad00-ed4d-4752-8dce-946bd447f9bd');\n",
              "var x = new MutationObserver(function (mutations, observer) {{\n",
              "        var display = window.getComputedStyle(gd).display;\n",
              "        if (!display || display === 'none') {{\n",
              "            console.log([gd, 'removed!']);\n",
              "            Plotly.purge(gd);\n",
              "            observer.disconnect();\n",
              "        }}\n",
              "}});\n",
              "\n",
              "// Listen for the removal of the full notebook cells\n",
              "var notebookContainer = gd.closest('#notebook-container');\n",
              "if (notebookContainer) {{\n",
              "    x.observe(notebookContainer, {childList: true});\n",
              "}}\n",
              "\n",
              "// Listen for the clearing of the current output cell\n",
              "var outputEl = gd.closest('.output');\n",
              "if (outputEl) {{\n",
              "    x.observe(outputEl, {childList: true});\n",
              "}}\n",
              "\n",
              "                        })                };                            </script>        </div>\n",
              "</body>\n",
              "</html>"
            ]
          },
          "metadata": {}
        }
      ]
    }
  ]
}